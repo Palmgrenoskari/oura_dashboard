{
 "cells": [
  {
   "cell_type": "markdown",
   "metadata": {},
   "source": [
    "### Imports"
   ]
  },
  {
   "cell_type": "code",
   "execution_count": 1,
   "metadata": {},
   "outputs": [],
   "source": [
    "import requests\n",
    "import pandas as pd\n",
    "import streamlit as st\n",
    "\n",
    "api_key = st.secrets[\"OURA_API_KEY\"]"
   ]
  },
  {
   "cell_type": "markdown",
   "metadata": {},
   "source": [
    "### General functions"
   ]
  },
  {
   "cell_type": "code",
   "execution_count": 22,
   "metadata": {},
   "outputs": [],
   "source": [
    "def fetch_oura_data(api_key, endpoint):\n",
    "    url = f\"https://api.ouraring.com/v2/usercollection/{endpoint}\"\n",
    "    headers = {\n",
    "        \"Authorization\": f\"Bearer {api_key}\",\n",
    "    }\n",
    "    params = {\n",
    "        'start_date': '2025-01-01',\n",
    "        'end_date': '2025-01-15'\n",
    "    }\n",
    "    response = requests.get(url, headers=headers, params=params)\n",
    "    return response.json()\n"
   ]
  },
  {
   "cell_type": "code",
   "execution_count": 34,
   "metadata": {},
   "outputs": [],
   "source": [
    "def fetch_daily_data(api_key, endpoint):\n",
    "  # Need to fetch without params to get the current day's incomplete activity data, kinda weird I know\n",
    "  url = f\"https://api.ouraring.com/v2/usercollection/{endpoint}\"\n",
    "  headers = {\n",
    "    \"Authorization\": f\"Bearer {api_key}\",\n",
    "  }\n",
    "  response = requests.get(url, headers=headers)\n",
    "  return response.json()\n",
    "\n"
   ]
  },
  {
   "cell_type": "code",
   "execution_count": 44,
   "metadata": {},
   "outputs": [],
   "source": [
    "def process_sleep_data(data):\n",
    "  from datetime import datetime\n",
    "  \n",
    "  sleep_data = []\n",
    "  \n",
    "  for day in data:\n",
    "    # Convert timestamps to datetime objects\n",
    "    bedtime_start = datetime.fromisoformat(day['bedtime_start'])\n",
    "    bedtime_end = datetime.fromisoformat(day['bedtime_end'])\n",
    "    \n",
    "    # Generate timestamps for each 5-minute interval\n",
    "    # This helps us later when plotting hr and hrv data against time\n",
    "    # Filter out None values from heart rate items\n",
    "    hr_items = [x for x in day['heart_rate']['items'] if x is not None]\n",
    "    hrv_items = [x for x in day['hrv']['items'] if x is not None]\n",
    "    hr_count = len(hr_items)\n",
    "    timestamps = []\n",
    "    current_time = bedtime_start\n",
    "    \n",
    "    for _ in range(hr_count):\n",
    "        timestamps.append(current_time.strftime('%H:%M'))\n",
    "        current_time = current_time + pd.Timedelta(minutes=5)\n",
    "    \n",
    "    # Calculate total sleep duration in hours\n",
    "    total_sleep_hours = day['total_sleep_duration'] / 3600\n",
    "    \n",
    "    # Skip if sleep duration is less than 3 hours (likely a nap)\n",
    "    if total_sleep_hours < 3:\n",
    "      continue\n",
    "    \n",
    "    # Convert durations from seconds to hours\n",
    "    fields_of_interest = {\n",
    "      \"date\": day['day'],\n",
    "      \"deep_sleep\": round(day['deep_sleep_duration'] / 3600, 2),\n",
    "      \"light_sleep\": round(day['light_sleep_duration'] / 3600, 2),\n",
    "      \"rem_sleep\": round(day['rem_sleep_duration'] / 3600, 2),\n",
    "      \"total_sleep\": round(total_sleep_hours, 2),\n",
    "      \"time_in_bed\": round(day['time_in_bed'] / 3600, 2),\n",
    "      \"sleep_efficiency\": day['efficiency'],\n",
    "      \"average_hr\": day['average_heart_rate'],\n",
    "      \"average_hrv\": day['average_hrv'],\n",
    "      \"lowest_hr\": day['lowest_heart_rate'],\n",
    "      \"hr_items\": hr_items,\n",
    "      \"hrv_items\": hrv_items,\n",
    "      \"timestamp_items\": timestamps,\n",
    "      \"bedtime_start\": bedtime_start.strftime('%H:%M'),\n",
    "      \"bedtime_end\": bedtime_end.strftime('%H:%M'),\n",
    "    }\n",
    "    \n",
    "    sleep_data.append(fields_of_interest)\n",
    "    \n",
    "  # Convert to pandas DataFrame for easier visualization\n",
    "  return pd.DataFrame(sleep_data)"
   ]
  },
  {
   "cell_type": "code",
   "execution_count": 36,
   "metadata": {},
   "outputs": [],
   "source": [
    "def process_activity_data(data):\n",
    "  \n",
    "  activity_data = []\n",
    "  \n",
    "  for day in data:\n",
    "    fields_of_interest = {\n",
    "      \"date\": day['day'],\n",
    "      \"score\": day['score'],\n",
    "      \"active_calories\": day['active_calories'],\n",
    "      \"average_met_minutes\": day['average_met_minutes'],\n",
    "      \"equivalent_walking_distance\": day['equivalent_walking_distance'],\n",
    "      \"met_items\": day['met']['items'],\n",
    "      \"steps\": day['steps'],\n",
    "      \"target_meters\": day['target_meters'],\n",
    "      \"target_calories\": day['target_calories'],\n",
    "      \"total_calories\": day['total_calories'],\n",
    "    }\n",
    "    \n",
    "    activity_data.append(fields_of_interest)\n",
    "    \n",
    "  return pd.DataFrame(activity_data)  "
   ]
  },
  {
   "cell_type": "markdown",
   "metadata": {},
   "source": [
    "### Sleep Data"
   ]
  },
  {
   "cell_type": "code",
   "execution_count": 45,
   "metadata": {},
   "outputs": [],
   "source": [
    "# Load\n",
    "sleep_data = fetch_oura_data(api_key, \"sleep\")\n",
    "# Process\n",
    "sleep_data_processed = process_sleep_data(sleep_data['data'])\n",
    "# Store\n",
    "sleep_data_processed.to_parquet('src/data/sleep_data.parquet')\n"
   ]
  },
  {
   "cell_type": "markdown",
   "metadata": {},
   "source": [
    "### Loading Activity Data"
   ]
  },
  {
   "cell_type": "code",
   "execution_count": 46,
   "metadata": {},
   "outputs": [],
   "source": [
    "### Load\n",
    "activity_data = fetch_oura_data(api_key, \"daily_activity\")\n",
    "# Need to fetch without params to get the current day's incomplete activity data, kinda weird I know\n",
    "current_day_activity = fetch_daily_data(api_key, \"daily_activity\")\n",
    "activity_data['data'].append(current_day_activity['data'][0])\n",
    "\n",
    "### Process\n",
    "activity_data_processed = process_activity_data(activity_data['data'])\n",
    "### Store\n",
    "activity_data_processed.to_parquet('src/data/activity_data.parquet')\n"
   ]
  }
 ],
 "metadata": {
  "kernelspec": {
   "display_name": "Python 3",
   "language": "python",
   "name": "python3"
  },
  "language_info": {
   "codemirror_mode": {
    "name": "ipython",
    "version": 3
   },
   "file_extension": ".py",
   "mimetype": "text/x-python",
   "name": "python",
   "nbconvert_exporter": "python",
   "pygments_lexer": "ipython3",
   "version": "3.10.10"
  }
 },
 "nbformat": 4,
 "nbformat_minor": 2
}
